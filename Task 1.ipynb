{
 "cells": [
  {
   "cell_type": "code",
   "execution_count": 1,
   "id": "8637477d",
   "metadata": {},
   "outputs": [],
   "source": [
    "from sklearn.feature_extraction.text import CountVectorizer\n",
    "vect = CountVectorizer(binary = True)"
   ]
  },
  {
   "cell_type": "code",
   "execution_count": 2,
   "id": "d9c05df4",
   "metadata": {},
   "outputs": [],
   "source": [
    "corpus = [\"NLP is awesome\" , \"I want to start an NLP company \" , \"Top unicorns use NLP Technologies\"]"
   ]
  },
  {
   "cell_type": "code",
   "execution_count": 3,
   "id": "10c594dd",
   "metadata": {},
   "outputs": [
    {
     "data": {
      "text/plain": [
       "CountVectorizer(binary=True)"
      ]
     },
     "execution_count": 3,
     "metadata": {},
     "output_type": "execute_result"
    }
   ],
   "source": [
    "vect.fit(corpus)#****"
   ]
  },
  {
   "cell_type": "code",
   "execution_count": 4,
   "id": "464d031a",
   "metadata": {},
   "outputs": [],
   "source": [
    "vocab = vect.vocabulary_#*****"
   ]
  },
  {
   "cell_type": "code",
   "execution_count": 5,
   "id": "5a085d1e",
   "metadata": {},
   "outputs": [
    {
     "name": "stdout",
     "output_type": "stream",
     "text": [
      "nlp:4\n",
      "is:3\n",
      "awesome:1\n",
      "want:11\n",
      "to:7\n",
      "start:5\n",
      "an:0\n",
      "company:2\n",
      "top:8\n",
      "unicorns:9\n",
      "use:10\n",
      "technologies:6\n"
     ]
    }
   ],
   "source": [
    "for key in vocab.keys():\n",
    "    print(\"{}:{}\".format(key,vocab[key]))\n"
   ]
  },
  {
   "cell_type": "code",
   "execution_count": 6,
   "id": "aa87c242",
   "metadata": {},
   "outputs": [
    {
     "data": {
      "text/plain": [
       "array([[1, 1, 1, 0, 1, 0, 0, 0, 0, 0, 0, 0]], dtype=int64)"
      ]
     },
     "execution_count": 6,
     "metadata": {},
     "output_type": "execute_result"
    }
   ],
   "source": [
    "vect.transform([\"I have an awesome NLP Company worth an awesome 1 billion\"]).toarray()#******"
   ]
  },
  {
   "cell_type": "code",
   "execution_count": null,
   "id": "5225fde8",
   "metadata": {},
   "outputs": [],
   "source": []
  },
  {
   "cell_type": "code",
   "execution_count": null,
   "id": "069551b6",
   "metadata": {},
   "outputs": [],
   "source": []
  },
  {
   "cell_type": "code",
   "execution_count": 12,
   "id": "5a925ef0",
   "metadata": {},
   "outputs": [],
   "source": [
    "from sklearn.metrics.pairwise import cosine_similarity\n",
    "similarity = cosine_similarity(vect.transform([\"NLP is an Eective\"]).toarray(),vect.transform([\"NLP is an attractive career now\"]).toarray())"
   ]
  },
  {
   "cell_type": "code",
   "execution_count": 13,
   "id": "47efe551",
   "metadata": {},
   "outputs": [
    {
     "data": {
      "text/plain": [
       "array([[1.]])"
      ]
     },
     "execution_count": 13,
     "metadata": {},
     "output_type": "execute_result"
    }
   ],
   "source": [
    "similarity"
   ]
  },
  {
   "cell_type": "code",
   "execution_count": 14,
   "id": "79d9734e",
   "metadata": {},
   "outputs": [],
   "source": [
    "from sklearn.metrics.pairwise import cosine_similarity\n",
    "sim = cosine_similarity(vect.transform([\"NLP is an elective Subject\"]).toarray(),vect.transform([\"NLP is an attractive career now \"]).toarray())"
   ]
  },
  {
   "cell_type": "code",
   "execution_count": 15,
   "id": "2a3b137f",
   "metadata": {},
   "outputs": [
    {
     "data": {
      "text/plain": [
       "array([[1.]])"
      ]
     },
     "execution_count": 15,
     "metadata": {},
     "output_type": "execute_result"
    }
   ],
   "source": [
    "sim"
   ]
  },
  {
   "cell_type": "code",
   "execution_count": 16,
   "id": "bdc6912d",
   "metadata": {},
   "outputs": [
    {
     "data": {
      "text/plain": [
       "array([[1, 0, 0, 1, 1, 0, 0, 0, 0, 0, 0, 0]], dtype=int64)"
      ]
     },
     "execution_count": 16,
     "metadata": {},
     "output_type": "execute_result"
    }
   ],
   "source": [
    "vect.transform([\"NLP is an elective subject\"]).toarray()"
   ]
  },
  {
   "cell_type": "code",
   "execution_count": 17,
   "id": "d6bec9be",
   "metadata": {},
   "outputs": [
    {
     "data": {
      "text/plain": [
       "array([[0, 0, 0, 0, 1, 0, 0, 0, 0, 0, 0, 0]], dtype=int64)"
      ]
     },
     "execution_count": 17,
     "metadata": {},
     "output_type": "execute_result"
    }
   ],
   "source": [
    "vect.transform([\"Airbnb uses NLP technisions\"]).toarray()"
   ]
  },
  {
   "cell_type": "code",
   "execution_count": null,
   "id": "3d8a8fbc",
   "metadata": {},
   "outputs": [],
   "source": []
  }
 ],
 "metadata": {
  "kernelspec": {
   "display_name": "Python 3 (ipykernel)",
   "language": "python",
   "name": "python3"
  },
  "language_info": {
   "codemirror_mode": {
    "name": "ipython",
    "version": 3
   },
   "file_extension": ".py",
   "mimetype": "text/x-python",
   "name": "python",
   "nbconvert_exporter": "python",
   "pygments_lexer": "ipython3",
   "version": "3.9.13"
  }
 },
 "nbformat": 4,
 "nbformat_minor": 5
}
