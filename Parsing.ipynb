{
 "cells": [
  {
   "cell_type": "code",
   "execution_count": 1,
   "id": "2018e2df",
   "metadata": {},
   "outputs": [],
   "source": [
    "import nltk"
   ]
  },
  {
   "cell_type": "code",
   "execution_count": 3,
   "id": "ce5e4812",
   "metadata": {},
   "outputs": [],
   "source": [
    "sentence = [(\"The\",\"DET\"),('little','ADJ'),('boy','NOUN'),('and','CCONJ'),('the','DET'),('little','ADJ'),('girl','NOUN')]\n",
    "\n",
    "grammar = \"NP: {<DT>?<JJ>*<NN>}\"\n",
    "#PRODUCTION FROM CFG FOR NP AND VP"
   ]
  },
  {
   "cell_type": "code",
   "execution_count": 5,
   "id": "9c8d03cb",
   "metadata": {},
   "outputs": [],
   "source": [
    "cp = nltk.RegexpParser(grammar)"
   ]
  },
  {
   "cell_type": "code",
   "execution_count": 6,
   "id": "33396f93",
   "metadata": {},
   "outputs": [
    {
     "name": "stdout",
     "output_type": "stream",
     "text": [
      "(S\n",
      "  The/DET\n",
      "  little/ADJ\n",
      "  boy/NOUN\n",
      "  and/CCONJ\n",
      "  the/DET\n",
      "  little/ADJ\n",
      "  girl/NOUN)\n"
     ]
    }
   ],
   "source": [
    "result = cp.parse(sentence)\n",
    "print(result)"
   ]
  },
  {
   "cell_type": "code",
   "execution_count": null,
   "id": "a6172ba9",
   "metadata": {},
   "outputs": [],
   "source": []
  }
 ],
 "metadata": {
  "kernelspec": {
   "display_name": "Python 3 (ipykernel)",
   "language": "python",
   "name": "python3"
  },
  "language_info": {
   "codemirror_mode": {
    "name": "ipython",
    "version": 3
   },
   "file_extension": ".py",
   "mimetype": "text/x-python",
   "name": "python",
   "nbconvert_exporter": "python",
   "pygments_lexer": "ipython3",
   "version": "3.9.13"
  }
 },
 "nbformat": 4,
 "nbformat_minor": 5
}
